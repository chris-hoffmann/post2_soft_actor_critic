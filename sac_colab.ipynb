{
  "cells": [
    {
      "attachments": {},
      "cell_type": "markdown",
      "metadata": {
        "id": "MMqlP-gAI23t"
      },
      "source": [
        "# Run Soft Actor-Critic in Google Colab"
      ]
    },
    {
      "attachments": {},
      "cell_type": "markdown",
      "metadata": {
        "id": "jf6udtPQJX0O"
      },
      "source": [
        "## 1. Preparation\n",
        "Pull code from GitHub repository and install dependencies."
      ]
    },
    {
      "cell_type": "code",
      "execution_count": null,
      "metadata": {
        "colab": {
          "base_uri": "https://localhost:8080/"
        },
        "id": "RRJBQJqnYMJg",
        "outputId": "1094cc79-71d7-4d06-aa2f-dd8b22ac06d3"
      },
      "outputs": [],
      "source": [
        "!git clone https://github.com/chris-hoffmann/post2_soft_actor_critic.git"
      ]
    },
    {
      "cell_type": "code",
      "execution_count": null,
      "metadata": {
        "colab": {
          "base_uri": "https://localhost:8080/"
        },
        "id": "dAhWc7_ZZBEA",
        "outputId": "41ef8c83-a80c-47a9-c9f5-c5282f25c79b"
      },
      "outputs": [],
      "source": [
        "cd post2_soft_actor_critic/\n",
        "rm Experiments/* environment.yml"
      ]
    },
    {
      "cell_type": "code",
      "execution_count": null,
      "metadata": {
        "colab": {
          "base_uri": "https://localhost:8080/"
        },
        "id": "slw1a9yfcGzn",
        "outputId": "e044c4fe-afea-46b3-d219-11d45928191d"
      },
      "outputs": [],
      "source": [
        "!xargs sudo apt install -y < dependencies/colab_pkgs.txt"
      ]
    },
    {
      "cell_type": "code",
      "execution_count": null,
      "metadata": {
        "colab": {
          "base_uri": "https://localhost:8080/"
        },
        "id": "NmIoSoedoyW8",
        "outputId": "eb4d5e90-9e6a-4eeb-bd18-39d0220d907e"
      },
      "outputs": [],
      "source": [
        "!pip install -r dependencies/colab_requirements.txt"
      ]
    },
    {
      "cell_type": "code",
      "execution_count": null,
      "metadata": {
        "colab": {
          "base_uri": "https://localhost:8080/"
        },
        "id": "HBIPLR7vhqcL",
        "outputId": "c08c990b-65e4-4be3-8f67-e97a1b66d335"
      },
      "outputs": [],
      "source": [
        "!dos2unix scripts/run_inv_pendulum.sh"
      ]
    },
    {
      "cell_type": "code",
      "execution_count": null,
      "metadata": {
        "colab": {
          "base_uri": "https://localhost:8080/"
        },
        "id": "4JfFl_waovZP",
        "outputId": "e22f2fd8-2a96-48be-a1ba-cfcde21c134b"
      },
      "outputs": [],
      "source": [
        "from pyvirtualdisplay import Display\n",
        "\n",
        "display = Display(visible=0, size=(1400, 900))\n",
        "display.start()"
      ]
    },
    {
      "attachments": {},
      "cell_type": "markdown",
      "metadata": {
        "id": "iIu9ZqoSRaTu"
      },
      "source": [
        "## 2. Train the agent\n",
        "We perform 3 runs in each Gym environment using distinct random seeds."
      ]
    },
    {
      "attachments": {},
      "cell_type": "markdown",
      "metadata": {
        "id": "UsnnjrsdYG-E"
      },
      "source": [
        "### Train in the 1st environment: ***HalfCheetah-v4***"
      ]
    },
    {
      "cell_type": "code",
      "execution_count": null,
      "metadata": {
        "id": "QGjAOgb-oT5-"
      },
      "outputs": [],
      "source": [
        "!bash scripts/run_half_cheetah.sh"
      ]
    },
    {
      "attachments": {},
      "cell_type": "markdown",
      "metadata": {
        "id": "t_ZNrd1xmrJI"
      },
      "source": [
        "### Train in the 2nd environment: ***InvertedPendulum-v4***"
      ]
    },
    {
      "cell_type": "code",
      "execution_count": null,
      "metadata": {
        "colab": {
          "base_uri": "https://localhost:8080/"
        },
        "id": "AliTIMnbZIp2",
        "outputId": "8ad601fb-28df-49ad-8bd6-7ad0d9a62e45"
      },
      "outputs": [],
      "source": [
        "!bash scripts/run_inv_pendulum.sh"
      ]
    },
    {
      "attachments": {},
      "cell_type": "markdown",
      "metadata": {
        "id": "2s5hIOXlnwFg"
      },
      "source": [
        "### Train in the 3rd environment: ***Hopper-v4***"
      ]
    },
    {
      "cell_type": "code",
      "execution_count": null,
      "metadata": {
        "id": "DyOAuaa0nypC"
      },
      "outputs": [],
      "source": [
        "!bash scripts/run_hopper.sh"
      ]
    },
    {
      "attachments": {},
      "cell_type": "markdown",
      "metadata": {},
      "source": [
        "### Check training output"
      ]
    },
    {
      "attachments": {},
      "cell_type": "markdown",
      "metadata": {},
      "source": [
        "If things went according to plan, the directory `Experiments` should have the following structure:\n",
        "```\n",
        "Experiments/\n",
        "├── HalfCheetah-v4__seed_1\n",
        "│   ├── events.out.tfevents.*\n",
        "│   └── policy_ckpt.pth\n",
        "├── HalfCheetah-v4__seed_2\n",
        "│   ├── events.out.tfevents.*\n",
        "│   └── policy_ckpt.pth\n",
        "├── HalfCheetah-v4__seed_3\n",
        "│   ├── events.out.tfevents.*\n",
        "│   └── policy_ckpt.pth\n",
        "├── Hopper-v4__seed_1\n",
        "│   ├── events.out.tfevents.*\n",
        "│   └── policy_ckpt.pth\n",
        "├── Hopper-v4__seed_2\n",
        "│   ├── events.out.tfevents.*\n",
        "│   └── policy_ckpt.pth\n",
        "├── Hopper-v4__seed_3\n",
        "│   ├── events.out.tfevents.*\n",
        "│   └── policy_ckpt.pth\n",
        "├── InvertedPendulum-v4__seed_1\n",
        "│   ├── events.out.tfevents.*\n",
        "│   └── policy_ckpt.pth\n",
        "├── InvertedPendulum-v4__seed_2\n",
        "│   ├── events.out.tfevents.*\n",
        "│   └── policy_ckpt.pth\n",
        "├── InvertedPendulum-v4__seed_3\n",
        "│   ├── events.out.tfevents.*\n",
        "│   └── policy_ckpt.pth\n",
        "```\n",
        "As you can see, each single run is represented by a specific directory containing a TensorBoard event file (`events.out.tfevents.*`) and the parameters of the trained Actor (`policy_ckpt.pth`)."
      ]
    },
    {
      "attachments": {},
      "cell_type": "markdown",
      "metadata": {},
      "source": [
        "## Analyze the training"
      ]
    },
    {
      "attachments": {},
      "cell_type": "markdown",
      "metadata": {
        "id": "xBQTkkc8oEj5"
      },
      "source": [
        "We generate learning curves displaying the return per time-step averaged over 3 independent runs performed in each environment as well as videos illustrating the quality of the learned policies. "
      ]
    },
    {
      "cell_type": "code",
      "execution_count": null,
      "metadata": {},
      "outputs": [],
      "source": [
        "python analyze_runs.py --out-dir <dir_path>"
      ]
    },
    {
      "attachments": {},
      "cell_type": "markdown",
      "metadata": {},
      "source": [
        "Note that the resulting artifacts (plots and gif files) are available from the [GitHub repository](https://github.com/chris-hoffmann/post2_soft_actor_critic/tree/main/assets) and are also displayed in the [README](https://github.com/chris-hoffmann/post2_soft_actor_critic/blob/main/README.md). "
      ]
    }
  ],
  "metadata": {
    "accelerator": "GPU",
    "colab": {
      "collapsed_sections": [
        "jf6udtPQJX0O",
        "iIu9ZqoSRaTu"
      ],
      "gpuType": "T4",
      "provenance": []
    },
    "kernelspec": {
      "display_name": "Python 3",
      "name": "python3"
    },
    "language_info": {
      "name": "python"
    }
  },
  "nbformat": 4,
  "nbformat_minor": 0
}
